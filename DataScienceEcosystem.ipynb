{
 "cells": [
  {
   "cell_type": "markdown",
   "id": "f863ce31-c437-4efa-93ed-8308e3783921",
   "metadata": {},
   "source": [
    "# Data Science Tools and Ecosystem"
   ]
  },
  {
   "cell_type": "markdown",
   "id": "f967690d-f96c-43b8-882e-9af0b824cc59",
   "metadata": {},
   "source": [
    "*In this notebook, Data Science Tools and Ecosystem are summarized.*"
   ]
  },
  {
   "cell_type": "markdown",
   "id": "058bcdd9-d407-4176-8687-6fb05420547e",
   "metadata": {},
   "source": [
    "__Objectives:__\n",
    "- unordered list\n",
    "- list popular languages for Data Science\n",
    "- math operations\n",
    "- tools for Date Science"
   ]
  },
  {
   "cell_type": "markdown",
   "id": "6afb6082-578c-441c-b4a1-6a1638a78e79",
   "metadata": {},
   "source": [
    "Data scientists commonly use several programming languages, each serving different purposes in data analysis, modeling, and visualization. Here are some of the most popular languages: <p>\n",
    "1.__*Python*__: Widely favored for its simplicity and versatility, Python has extensive libraries (like Pandas, NumPy, SciPy, and scikit-learn) that facilitate data manipulation, analysis, and machine learning. <p>\n",
    "2.__*R*__: Known for statistical analysis and data visualization, R has a rich ecosystem of packages (like ggplot2 and dplyr) that are specifically designed for data science.<p>\n",
    "3.__*SQL*__: Essential for managing and querying relational databases, SQL is critical for data extraction and manipulation.<p>\n",
    "4.__*Java*__: Often used in big data technologies like Hadoop and Apache Spark, Java is valuable for building scalable data processing systems.<p>\n",
    "5.__*Scala*__: Frequently used with Apache Spark, Scala supports functional programming and is effective for big data processing.<p>\n",
    "6.__*Julia*__: Gaining popularity for its performance in numerical and scientific computing, Julia is particularly useful in mathematical modeling and high-performance applications.<p>"
   ]
  },
  {
   "cell_type": "markdown",
   "id": "20b46c5a-e59f-491f-88ed-8cb8ab834ec9",
   "metadata": {},
   "source": [
    "Data scientists utilize a variety of libraries to facilitate data analysis, machine learning, data visualization, and more. Here are some of the most commonly used libraries:<p>\n",
    "## Python Libraries\n",
    "+ NumPy: Fundamental package for numerical computing in Python. It provides support for arrays and matrices, along with a collection of mathematical functions.<p>\n",
    "+ Pandas: Essential for data manipulation and analysis. It offers data structures like DataFrames, which are ideal for handling tabular data.<p>\n",
    "+ Matplotlib: A widely used library for creating static, animated, and interactive visualizations in Python.<p>\n",
    "+ Seaborn: Built on top of Matplotlib, Seaborn provides a high-level interface for drawing attractive and informative statistical graphics.<p>\n",
    "+ Scikit-learn: A robust library for machine learning that provides simple and efficient tools for data mining and data analysis.<p>\n",
    "+ TensorFlow: An open-source library developed by Google for deep learning applications. It provides a flexible framework for building and training neural networks.<p>\n",
    "+ Keras: A high-level API for building and training deep learning models, which can run on top of TensorFlow or Theano.<p>\n",
    "+ PyTorch: Developed by Facebook, this library is used for deep learning and provides dynamic computational graphs, making it easier to debug and experiment.<p>\n",
    "+ Statsmodels: Useful for estimating and testing statistical models, it provides classes and functions for various statistical tests and data exploration.<p>\n",
    "\n",
    "## R Libraries\n",
    "+ ggplot2: A powerful visualization library that uses a grammar of graphics to create complex and visually appealing plots.<p>\n",
    "+ dplyr: Part of the Tidyverse, this library is used for data manipulation and transformation, making it easier to work with data frames.<p>\n",
    "+ tidyverse: A collection of R packages designed for data science that includes ggplot2, dplyr, tidyr, and others.<p>\n",
    "+ caret: A package that simplifies the process of training machine learning models and provides tools for data splitting, pre-processing, feature selection, and model tuning.<p>\n",
    "+ shiny: A package that makes it easy to build interactive web applications directly from R.<p>"
   ]
  },
  {
   "cell_type": "markdown",
   "id": "ca0ae45c-1ad1-460b-8d6a-39a3f2091a83",
   "metadata": {},
   "source": [
    "## Tools for data scientists \n",
    "|Tools|\n",
    "|-----|\n",
    "|Jupyter Notebook|\n",
    "|RStudio|\n",
    "|Apache Zeppelin|"
   ]
  },
  {
   "cell_type": "markdown",
   "id": "d247e02d-bcb6-4939-a1ad-d6cfa026d6bc",
   "metadata": {},
   "source": [
    "### Below are a few examples of evaluating arithmetic expressions in Python\n"
   ]
  },
  {
   "cell_type": "markdown",
   "id": "64d839e8-6311-4802-831e-5c83fc56fefb",
   "metadata": {},
   "source": [
    "*This a simple arithmetic expression to mutiply then add integers*"
   ]
  },
  {
   "cell_type": "code",
   "execution_count": 15,
   "id": "6d6f42f1-3912-4433-98a8-a216b589374e",
   "metadata": {},
   "outputs": [
    {
     "data": {
      "text/plain": [
       "17"
      ]
     },
     "execution_count": 15,
     "metadata": {},
     "output_type": "execute_result"
    }
   ],
   "source": [
    "(3*4)+5"
   ]
  },
  {
   "cell_type": "markdown",
   "id": "45e6832a-db08-4aae-b8df-d16990995280",
   "metadata": {},
   "source": [
    "This will convert 200 minutes to hours by diving by 60"
   ]
  },
  {
   "cell_type": "code",
   "execution_count": 18,
   "id": "ceae7b0d-7f01-4bb4-a4b1-3b1c6d170dcd",
   "metadata": {},
   "outputs": [
    {
     "data": {
      "text/plain": [
       "3.3333333333333335"
      ]
     },
     "execution_count": 18,
     "metadata": {},
     "output_type": "execute_result"
    }
   ],
   "source": [
    "200/60"
   ]
  },
  {
   "cell_type": "markdown",
   "id": "6b8620e8-0674-4bd2-8dab-10e7f85eb9c1",
   "metadata": {},
   "source": [
    "## Author: Yaroslav Korkos"
   ]
  },
  {
   "cell_type": "code",
   "execution_count": null,
   "id": "194cb90d-e7f8-49f6-a854-519d2e536a46",
   "metadata": {},
   "outputs": [],
   "source": []
  }
 ],
 "metadata": {
  "kernelspec": {
   "display_name": "Python 3 (ipykernel)",
   "language": "python",
   "name": "python3"
  },
  "language_info": {
   "codemirror_mode": {
    "name": "ipython",
    "version": 3
   },
   "file_extension": ".py",
   "mimetype": "text/x-python",
   "name": "python",
   "nbconvert_exporter": "python",
   "pygments_lexer": "ipython3",
   "version": "3.12.4"
  }
 },
 "nbformat": 4,
 "nbformat_minor": 5
}
